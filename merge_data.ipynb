{
 "cells": [
  {
   "cell_type": "code",
   "execution_count": 10,
   "metadata": {},
   "outputs": [],
   "source": [
    "import json"
   ]
  },
  {
   "cell_type": "code",
   "execution_count": 11,
   "metadata": {},
   "outputs": [
    {
     "name": "stdout",
     "output_type": "stream",
     "text": [
      "done\n"
     ]
    }
   ],
   "source": [
    "with open(\"datas/train.json\", \"r\", encoding='utf-8') as f:\n",
    "    data_origin = json.load(f)\n",
    "\n",
    "with open(\"/mnt/cfs/huangzhiwei/generated_sentence_errors_strong.json\", \"r\", encoding='utf-8') as f:\n",
    "    data_now = json.load(f)\n",
    "\n",
    "new_data = []\n",
    "new_data = data_origin + data_now\n",
    "\n",
    "with open(\"datas/train_new.json\", \"w\", encoding='utf-8') as f:\n",
    "    json.dump(new_data, f, indent=4, ensure_ascii=False)\n",
    "    print(\"done\")"
   ]
  },
  {
   "cell_type": "markdown",
   "metadata": {},
   "source": [
    "# 吴宇轩数据集"
   ]
  },
  {
   "cell_type": "code",
   "execution_count": 4,
   "metadata": {},
   "outputs": [
    {
     "name": "stdout",
     "output_type": "stream",
     "text": [
      "done\n"
     ]
    }
   ],
   "source": [
    "import json\n",
    "\n",
    "with open('/mnt/cfs/huangzhiwei/NLP-WED0910/datas/train_augmented.json') as f:\n",
    "    data_augmented = json.load(f)\n",
    "\n",
    "with open('datas/train.json', 'r', encoding='utf-8') as f:\n",
    "    data_train = json.load(f)\n",
    "\n",
    "data = data_train + data_augmented\n",
    "\n",
    "with open('datas/train_new_wyx.json', 'w', encoding='utf-8') as f:\n",
    "    json.dump(data, f, indent=4, ensure_ascii=False)\n",
    "\n",
    "print(\"done\")"
   ]
  },
  {
   "cell_type": "code",
   "execution_count": 1,
   "metadata": {},
   "outputs": [
    {
     "name": "stdout",
     "output_type": "stream",
     "text": [
      "卓能数据处理完成，合并后的数据已保存。\n"
     ]
    }
   ],
   "source": [
    "import json\n",
    "# 拼接卓能生成后的数据\n",
    "\n",
    "with open('/mnt/cfs/huangzhiwei/NLP-WED0910/zzn/train_fixed.json', 'r', encoding='utf-8') as f:\n",
    "    data_zzn = json.load(f)\n",
    "\n",
    "with open('/mnt/cfs/huangzhiwei/NLP-WED0910/datas/train.json', 'r', encoding='utf-8') as f:\n",
    "    data_train = json.load(f)\n",
    "\n",
    "# 把卓能生成的数据中'sent'字段替换成它里面的\"fixed_sent\"字段，然后把\"fixed_sent\"字段删除掉，然后清空\"CourseGrainedErrorType\"和\"FineGrainedErrorType\"里面的内容。\n",
    "\n",
    "for item in data_zzn:\n",
    "    if 'fixed_sent' in item:\n",
    "        item['sent'] = item['fixed_sent']\n",
    "        del item['fixed_sent']\n",
    "    if 'CourseGrainedErrorType' in item:\n",
    "        item['CourseGrainedErrorType'] = []\n",
    "    if 'FineGrainedErrorType' in item:\n",
    "        item['FineGrainedErrorType'] = []\n",
    "\n",
    "# 将卓能生成的数据和原始训练数据合并\n",
    "data_combined = data_train + data_zzn\n",
    "\n",
    "# 保存合并后的数据到新的JSON文件\n",
    "with open('/mnt/cfs/huangzhiwei/NLP-WED0910/datas/train_combined_zzn.json', 'w', encoding='utf-8') as f:\n",
    "    json.dump(data_combined, f, indent=4, ensure_ascii=False)\n",
    "\n",
    "print(\"卓能数据处理完成，合并后的数据已保存。\")"
   ]
  },
  {
   "cell_type": "code",
   "execution_count": null,
   "metadata": {},
   "outputs": [],
   "source": []
  }
 ],
 "metadata": {
  "kernelspec": {
   "display_name": "pykt-hzw3.8",
   "language": "python",
   "name": "python3"
  },
  "language_info": {
   "codemirror_mode": {
    "name": "ipython",
    "version": 3
   },
   "file_extension": ".py",
   "mimetype": "text/x-python",
   "name": "python",
   "nbconvert_exporter": "python",
   "pygments_lexer": "ipython3",
   "version": "3.8.19"
  }
 },
 "nbformat": 4,
 "nbformat_minor": 2
}
