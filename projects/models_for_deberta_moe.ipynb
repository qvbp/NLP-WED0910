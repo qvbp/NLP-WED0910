{
 "cells": [
  {
   "cell_type": "code",
   "execution_count": 1,
   "metadata": {},
   "outputs": [
    {
     "name": "stderr",
     "output_type": "stream",
     "text": [
      "/mnt/cfs/anaconda3/envs/pykt-hzw3.8/lib/python3.8/site-packages/tqdm/auto.py:21: TqdmWarning: IProgress not found. Please update jupyter and ipywidgets. See https://ipywidgets.readthedocs.io/en/stable/user_install.html\n",
      "  from .autonotebook import tqdm as notebook_tqdm\n"
     ]
    }
   ],
   "source": [
    "import os\n",
    "# 设置环境变量，只让程序看到 GPU 2\n",
    "os.environ['CUDA_VISIBLE_DEVICES'] = '3'\n",
    "\n",
    "\n",
    "import torch\n",
    "import torch.nn as nn\n",
    "import wandb\n",
    "import random\n",
    "import argparse\n",
    "import numpy as np\n",
    "from tqdm import tqdm\n",
    "from transformers import BertModel, AutoModel\n",
    "from transformers import AdamW\n",
    "\n",
    "device = torch.device(\"cuda\" if torch.cuda.is_available() else \"cpu\")"
   ]
  },
  {
   "cell_type": "markdown",
   "metadata": {},
   "source": [
    "# 数据预处理函数"
   ]
  },
  {
   "cell_type": "code",
   "execution_count": 2,
   "metadata": {},
   "outputs": [],
   "source": [
    "from torch.utils.data import Dataset\n",
    "import json\n",
    "\n",
    "class BAE2025Dataset(Dataset):\n",
    "    def __init__(\n",
    "            self,\n",
    "            data_path,\n",
    "            label_type=\"Actionability\",  # 根据需要可以是 \"Mistake_Identification\", \"Mistake_Location\", \"Providing_Guidance\", \"Actionability\"\n",
    "            labels={\n",
    "                \"Yes\": 0,\n",
    "                \"To some extent\": 1, \n",
    "                \"No\": 2,\n",
    "            }\n",
    "    ):\n",
    "        self.data_path = data_path\n",
    "        self.label_type = label_type\n",
    "        self.labels = labels\n",
    "        self._get_data()\n",
    "    \n",
    "    def _get_data(self):\n",
    "        with open(self.data_path, 'r', encoding='utf-8') as f:\n",
    "            data = json.load(f)\n",
    "        \n",
    "        self.data = []\n",
    "        for item in data:\n",
    "            sent1 = item['conversation_history']\n",
    "            sent2 = item['response']\n",
    "            \n",
    "            # 检查item中是否直接包含我们需要的标签\n",
    "            if self.label_type in item and item[self.label_type] in self.labels:\n",
    "                self.data.append(((sent1, sent2), self.labels[item[self.label_type]]))\n",
    "    \n",
    "    def __len__(self):\n",
    "        return len(self.data)\n",
    "    \n",
    "    def get_labels(self):\n",
    "        return self.labels\n",
    "\n",
    "    def __getitem__(self, idx):\n",
    "        return self.data[idx]"
   ]
  },
  {
   "cell_type": "markdown",
   "metadata": {},
   "source": [
    "# 数据加载函数"
   ]
  },
  {
   "cell_type": "code",
   "execution_count": 3,
   "metadata": {},
   "outputs": [],
   "source": [
    "import torch\n",
    "from torch.utils.data import DataLoader\n",
    "from transformers import AutoTokenizer\n",
    "from transformers import AutoConfig\n",
    "from transformers import DebertaV2Tokenizer\n",
    "\n",
    "class BAE2025DataLoader:\n",
    "    def __init__(\n",
    "        self,\n",
    "        dataset,\n",
    "        batch_size=16,\n",
    "        max_length=512,\n",
    "        shuffle=True,\n",
    "        drop_last=True,\n",
    "        device=None,\n",
    "        # tokenizer_name='chinese-bert-wwm-ext'\n",
    "        # tokenizer_name='chinese-roberta-wwm-ext'\n",
    "        # tokenizer_name='chinese-roberta-wwm-ext-large'\n",
    "        # tokenizer_name='/mnt/cfs/huangzhiwei/pykt-moekt/SBM/bge-large-en-v1.5'\n",
    "        tokenizer_name='/mnt/cfs/huangzhiwei/BAE2025/models/deberta-v3-base'\n",
    "        # tokenizer_name='/mnt/cfs/huangzhiwei/BAE2025/models/roberta-base'\n",
    "    ):\n",
    "        self.tokenizer = AutoTokenizer.from_pretrained(tokenizer_name)\n",
    "        self.tokenizer.truncation_side = 'left'  # 设置截断方向为左侧,即从句子开头开始截断,假设一个句子过长，则从句子开头开始截断，保留句子结尾的部分\n",
    "        print(\"当前使用的 tokenizer 类型：\", type(self.tokenizer))\n",
    "        \n",
    "        # config = AutoConfig.from_pretrained(tokenizer_name)\n",
    "        # self.tokenizer = AutoTokenizer.from_pretrained(tokenizer_name, config=config, use_fast=True)\n",
    "        \n",
    "        \n",
    "        # self.tokenizer = DebertaV2Tokenizer.from_pretrained(tokenizer_name)\n",
    "        \n",
    "        self.dataset = dataset\n",
    "        self.batch_size = batch_size\n",
    "        self.max_length = max_length\n",
    "        self.shuffle = shuffle\n",
    "        self.drop_last = drop_last\n",
    "\n",
    "        if device is None:\n",
    "            self.device = torch.device(\n",
    "                'cuda' if torch.cuda.is_available() else 'cpu'\n",
    "            )\n",
    "        else:\n",
    "            self.device = device\n",
    "\n",
    "        self.loader = DataLoader(\n",
    "            dataset=self.dataset,\n",
    "            batch_size=self.batch_size,\n",
    "            collate_fn=self.collate_fn,\n",
    "            shuffle=self.shuffle,\n",
    "            drop_last=self.drop_last\n",
    "        )\n",
    "\n",
    "    def collate_fn(self, data):\n",
    "        sents = [i[0] for i in data]\n",
    "        labels = [i[1] for i in data]\n",
    "\n",
    "        # 修改这里，处理两个句子的情况\n",
    "        data = self.tokenizer.batch_encode_plus(\n",
    "            batch_text_or_text_pairs=[(sent[0], sent[1]) for sent in sents],\n",
    "            truncation=True,\n",
    "            padding='max_length',\n",
    "            max_length=self.max_length,\n",
    "            return_tensors='pt',\n",
    "            return_length=True\n",
    "        )\n",
    "        input_ids = data['input_ids'].to(self.device)\n",
    "        attention_mask = data['attention_mask'].to(self.device)\n",
    "        # token_type_ids = data['token_type_ids'].to(self.device)\n",
    "        labels = torch.LongTensor(labels).to(self.device)\n",
    "\n",
    "        # return input_ids, attention_mask, token_type_ids, labels\n",
    "        return input_ids, attention_mask, labels\n",
    "\n",
    "\n",
    "    def __iter__(self):\n",
    "        for data in self.loader:\n",
    "            yield data\n",
    "\n",
    "    def __len__(self):\n",
    "        return len(self.loader)\n",
    "\n"
   ]
  },
  {
   "cell_type": "markdown",
   "metadata": {},
   "source": [
    "# 模型代码"
   ]
  },
  {
   "cell_type": "code",
   "execution_count": 4,
   "metadata": {},
   "outputs": [],
   "source": [
    "import torch\n",
    "import torch.nn as nn\n",
    "import torch.nn.functional as F\n",
    "from transformers import AutoModel\n",
    "\n",
    "\n",
    "class ExpertLSTM(nn.Module):\n",
    "    def __init__(self, input_size, hidden_size, num_layers=1, dropout=0.1):\n",
    "        super().__init__()\n",
    "        self.lstm = nn.LSTM(\n",
    "            input_size=input_size,\n",
    "            hidden_size=hidden_size,\n",
    "            num_layers=num_layers,\n",
    "            batch_first=True,\n",
    "            dropout=dropout if num_layers > 1 else 0,\n",
    "        )\n",
    "        \n",
    "    def forward(self, x):\n",
    "        # x: [batch_size, seq_len, input_size]\n",
    "        output, (hidden, _) = self.lstm(x)\n",
    "        # 返回最后一个时间步的隐藏状态\n",
    "        return hidden[-1]  # [batch_size, hidden_size]\n",
    "\n",
    "\n",
    "class ExpertBiLSTM(nn.Module):\n",
    "    def __init__(self, input_size, hidden_size, num_layers=1, dropout=0.1):\n",
    "        super().__init__()\n",
    "        self.bilstm = nn.LSTM(\n",
    "            input_size=input_size,\n",
    "            hidden_size=hidden_size // 2,  # 因为是双向的，所以每个方向的隐藏层大小减半\n",
    "            num_layers=num_layers,\n",
    "            batch_first=True,\n",
    "            bidirectional=True,\n",
    "            dropout=dropout if num_layers > 1 else 0,\n",
    "        )\n",
    "        \n",
    "    def forward(self, x):\n",
    "        # x: [batch_size, seq_len, input_size]\n",
    "        output, (hidden, _) = self.bilstm(x)\n",
    "        # 拼接最后一层的正向和反向隐藏状态\n",
    "        # hidden shape: [num_layers * num_directions, batch_size, hidden_size//2]\n",
    "        hidden_forward = hidden[-2]  # 正向的最后一层 [batch_size, hidden_size//2]\n",
    "        hidden_backward = hidden[-1]  # 反向的最后一层 [batch_size, hidden_size//2]\n",
    "        hidden_concat = torch.cat([hidden_forward, hidden_backward], dim=1)  # [batch_size, hidden_size]\n",
    "        return hidden_concat\n",
    "\n",
    "\n",
    "class ExpertRNN(nn.Module):\n",
    "    def __init__(self, input_size, hidden_size, num_layers=1, dropout=0.1):\n",
    "        super().__init__()\n",
    "        self.rnn = nn.RNN(\n",
    "            input_size=input_size,\n",
    "            hidden_size=hidden_size,\n",
    "            num_layers=num_layers,\n",
    "            batch_first=True,\n",
    "            dropout=dropout if num_layers > 1 else 0,\n",
    "        )\n",
    "        \n",
    "    def forward(self, x):\n",
    "        # x: [batch_size, seq_len, input_size]\n",
    "        _, hidden = self.rnn(x)\n",
    "        # 返回最后一个时间步的隐藏状态\n",
    "        return hidden[-1]  # [batch_size, hidden_size]\n",
    "\n",
    "\n",
    "class ExpertGRU(nn.Module):\n",
    "    def __init__(self, input_size, hidden_size, num_layers=1, dropout=0.1):\n",
    "        super().__init__()\n",
    "        self.gru = nn.GRU(\n",
    "            input_size=input_size,\n",
    "            hidden_size=hidden_size,\n",
    "            num_layers=num_layers,\n",
    "            batch_first=True,\n",
    "            dropout=dropout if num_layers > 1 else 0,\n",
    "        )\n",
    "        \n",
    "    def forward(self, x):\n",
    "        # x: [batch_size, seq_len, input_size]\n",
    "        _, hidden = self.gru(x)\n",
    "        # 返回最后一个时间步的隐藏状态\n",
    "        return hidden[-1]  # [batch_size, hidden_size]\n",
    "\n",
    "\n",
    "class ExpertLinear(nn.Module):\n",
    "    def __init__(self, input_size, hidden_size):\n",
    "        super().__init__()\n",
    "        self.linear = nn.Sequential(\n",
    "            nn.Linear(input_size, hidden_size * 2),\n",
    "            nn.LayerNorm(hidden_size * 2),\n",
    "            nn.GELU(),\n",
    "            nn.Linear(hidden_size * 2, hidden_size)\n",
    "        )\n",
    "        \n",
    "    def forward(self, x):\n",
    "        # x: [batch_size, seq_len, input_size]\n",
    "        # 我们需要把序列信息压缩为一个向量，可以使用平均池化\n",
    "        pooled = torch.mean(x, dim=1)  # [batch_size, input_size]\n",
    "        return self.linear(pooled)  # [batch_size, hidden_size]\n",
    "\n",
    "\n",
    "class BertClassificationHead(nn.Module):\n",
    "    def __init__(self, hidden_size=1024, num_classes=3, dropout_prob=0.3):\n",
    "        super().__init__()\n",
    "        self.dense = nn.Linear(hidden_size, hidden_size)\n",
    "        self.dropout = nn.Dropout(dropout_prob)\n",
    "        self.out_proj = nn.Linear(hidden_size, num_classes)\n",
    "    \n",
    "    def forward(self, features):\n",
    "        # 提取 [CLS] 标记的表示\n",
    "        x = features[:, 0, :]  # 使用第一个标记([CLS])\n",
    "        x = self.dropout(x)\n",
    "        x = self.dense(x)\n",
    "        x = torch.tanh(x)\n",
    "        x = self.dropout(x)\n",
    "        x = self.out_proj(x)\n",
    "        return x\n",
    "\n",
    "\n",
    "class MoERouter(nn.Module):\n",
    "    \"\"\"专家路由器，学习为每个样本分配专家权重\"\"\"\n",
    "    def __init__(self, input_size, num_experts):\n",
    "        super().__init__()\n",
    "        self.router = nn.Linear(input_size, num_experts)\n",
    "        \n",
    "    def forward(self, x):\n",
    "        # x: [batch_size, input_size]\n",
    "        # 计算每个专家的权重 (使用softmax确保权重和为1)\n",
    "        router_logits = self.router(x)\n",
    "        router_probs = F.softmax(router_logits, dim=-1)\n",
    "        return router_probs  # [batch_size, num_experts]\n",
    "\n",
    "\n",
    "class DeBERTaMoEClassifier(nn.Module):\n",
    "    def __init__(\n",
    "        self, \n",
    "        pretrained_model_name, \n",
    "        num_classes=3, \n",
    "        freeze_pooler=0,\n",
    "        expert_hidden_size=256,\n",
    "        dropout=0.3,\n",
    "        num_rnn_layers=1\n",
    "    ):\n",
    "        super().__init__()\n",
    "        \n",
    "        # 使用 AutoModel 加载 DeBERTa 模型\n",
    "        self.bert = AutoModel.from_pretrained(pretrained_model_name)\n",
    "        \n",
    "        # 获取 bert 隐藏层大小\n",
    "        self.bert_hidden_size = self.bert.config.hidden_size\n",
    "        \n",
    "        # 保留原有的分类头\n",
    "        self.original_classifier = BertClassificationHead(\n",
    "            hidden_size=self.bert_hidden_size,\n",
    "            num_classes=num_classes,\n",
    "            dropout_prob=dropout\n",
    "        )\n",
    "        \n",
    "        # 创建多个专家模型\n",
    "        self.experts = nn.ModuleDict({\n",
    "            'lstm': ExpertLSTM(\n",
    "                input_size=self.bert_hidden_size, \n",
    "                hidden_size=expert_hidden_size,\n",
    "                num_layers=num_rnn_layers,\n",
    "                dropout=dropout\n",
    "            ),\n",
    "            'bilstm': ExpertBiLSTM(\n",
    "                input_size=self.bert_hidden_size, \n",
    "                hidden_size=expert_hidden_size,\n",
    "                num_layers=num_rnn_layers,\n",
    "                dropout=dropout\n",
    "            ),\n",
    "            'rnn': ExpertRNN(\n",
    "                input_size=self.bert_hidden_size, \n",
    "                hidden_size=expert_hidden_size,\n",
    "                num_layers=num_rnn_layers,\n",
    "                dropout=dropout\n",
    "            ),\n",
    "            'gru': ExpertGRU(\n",
    "                input_size=self.bert_hidden_size, \n",
    "                hidden_size=expert_hidden_size,\n",
    "                num_layers=num_rnn_layers,\n",
    "                dropout=dropout\n",
    "            ),\n",
    "            'linear': ExpertLinear(\n",
    "                input_size=self.bert_hidden_size, \n",
    "                hidden_size=expert_hidden_size\n",
    "            ),\n",
    "        })\n",
    "        \n",
    "        # 创建路由器 (使用[CLS]标记表示作为路由的输入)\n",
    "        self.router = MoERouter(self.bert_hidden_size, len(self.experts))\n",
    "        \n",
    "        # 各专家模型的输出映射层，将各自的hidden_size映射到统一的输出空间\n",
    "        self.expert_outputs = nn.ModuleDict({\n",
    "            expert_name: nn.Linear(expert_hidden_size, num_classes)\n",
    "            for expert_name in self.experts.keys()\n",
    "        })\n",
    "        \n",
    "        # 最终的融合层，将所有结果拼接后映射到输出类别\n",
    "        # (1个原始分类头 + 5个专家) * 每个输出num_classes = 6 * num_classes\n",
    "        combined_dim = num_classes * (1 + len(self.experts))\n",
    "        self.final_classifier = nn.Sequential(\n",
    "            nn.Linear(combined_dim, combined_dim // 2),\n",
    "            nn.LayerNorm(combined_dim // 2),\n",
    "            nn.Dropout(dropout),\n",
    "            nn.ReLU(),\n",
    "            nn.Linear(combined_dim // 2, num_classes)\n",
    "        )\n",
    "        \n",
    "    def forward(self, input_ids, attention_mask):\n",
    "        # DeBERTa 编码\n",
    "        outputs = self.bert(\n",
    "            input_ids=input_ids,\n",
    "            attention_mask=attention_mask\n",
    "        )\n",
    "        \n",
    "        # 获取序列隐藏状态\n",
    "        hidden_states = outputs.last_hidden_state  # [batch_size, seq_len, hidden_size]\n",
    "        \n",
    "        # 获取原始分类头结果\n",
    "        original_logits = self.original_classifier(hidden_states)  # [batch_size, num_classes]\n",
    "        \n",
    "        # 获取路由权重\n",
    "        cls_embedding = hidden_states[:, 0]  # [batch_size, hidden_size]\n",
    "        routing_weights = self.router(cls_embedding)  # [batch_size, num_experts]\n",
    "        \n",
    "        # 获取各专家结果\n",
    "        expert_outputs = {}\n",
    "        for expert_name, expert in self.experts.items():\n",
    "            # 获取专家输出\n",
    "            expert_hidden = expert(hidden_states)  # [batch_size, expert_hidden_size]\n",
    "            # 映射到类别空间\n",
    "            expert_logits = self.expert_outputs[expert_name](expert_hidden)  # [batch_size, num_classes]\n",
    "            # 存储结果\n",
    "            expert_outputs[expert_name] = expert_logits\n",
    "        \n",
    "        # 根据路由权重加权专家结果\n",
    "        # 首先，将所有专家的结果拼接到一起\n",
    "        expert_logits_list = [original_logits]  # 包含原始分类头\n",
    "        expert_names = list(self.experts.keys())\n",
    "        \n",
    "        for expert_name in expert_names:\n",
    "            expert_logits_list.append(expert_outputs[expert_name])\n",
    "        \n",
    "        # 拼接所有结果 [batch_size, (1+num_experts)*num_classes]\n",
    "        combined_logits = torch.cat(expert_logits_list, dim=1)\n",
    "        \n",
    "        # 通过最终分类器输出最终结果\n",
    "        final_logits = self.final_classifier(combined_logits)\n",
    "        \n",
    "        # return {\n",
    "        #     'logits': final_logits,  # 最终预测\n",
    "        #     'original_logits': original_logits,  # 原始分类头预测\n",
    "        #     'expert_logits': expert_outputs,  # 各专家预测\n",
    "        #     'routing_weights': routing_weights,  # 路由权重\n",
    "        #     'combined_logits': combined_logits  # 拼接的中间结果\n",
    "        # }\n",
    "        \n",
    "        return final_logits\n"
   ]
  },
  {
   "cell_type": "markdown",
   "metadata": {},
   "source": [
    "# FGM"
   ]
  },
  {
   "cell_type": "code",
   "execution_count": 5,
   "metadata": {},
   "outputs": [],
   "source": [
    "class FGM():\n",
    "    def __init__(self, model):\n",
    "        self.model = model\n",
    "        self.backup = {}\n",
    "        # 明确指定为word_embeddings\n",
    "        self.emb_name = 'word_embeddings'\n",
    "    \n",
    "    def attack(self, epsilon=1.):\n",
    "        for name, param in self.model.named_parameters():\n",
    "            if param.requires_grad and self.emb_name in name:\n",
    "                self.backup[name] = param.data.clone()\n",
    "                norm = torch.norm(param.grad)\n",
    "                if norm != 0 and not torch.isnan(norm):\n",
    "                    r_at = epsilon * param.grad / norm\n",
    "                    param.data.add_(r_at)\n",
    "    \n",
    "    def restore(self):\n",
    "        for name, param in self.model.named_parameters():\n",
    "            if param.requires_grad and self.emb_name in name:\n",
    "                assert name in self.backup\n",
    "                param.data = self.backup[name]\n",
    "        self.backup = {}"
   ]
  },
  {
   "cell_type": "markdown",
   "metadata": {},
   "source": [
    "# 训练参数设置"
   ]
  },
  {
   "cell_type": "code",
   "execution_count": 6,
   "metadata": {},
   "outputs": [],
   "source": [
    "import os\n",
    "import wandb\n",
    "import random\n",
    "import argparse\n",
    "from tqdm import tqdm\n",
    "\n",
    "import torch\n",
    "import torch.nn as nn\n",
    "import numpy as np\n",
    "from transformers import AdamW\n",
    "from sklearn.metrics import f1_score, precision_score, recall_score, accuracy_score\n",
    "\n",
    "# 如果在Jupyter Notebook中运行，可以使用这个自定义参数函数替代argparser\n",
    "def get_default_configs():\n",
    "    \"\"\"在Jupyter环境中使用的默认配置，避免argparse解析错误\"\"\"\n",
    "    class Args:\n",
    "        def __init__(self):\n",
    "            # self.model_name = '/mnt/cfs/huangzhiwei/pykt-moekt/SBM/bge-large-en-v1.5'\n",
    "            # self.model_name = \"/mnt/cfs/huangzhiwei/BAE2025/models/ModernBERT-large\"\n",
    "            # self.model_name = '/mnt/cfs/huangzhiwei/pykt-moekt/SBM/xlm-roberta-large'\n",
    "            # self.model_name = '/mnt/cfs/huangzhiwei/BAE2025/models/bge-base-en-v1.5'\n",
    "            # self.model_name = '/mnt/cfs/huangzhiwei/BAE2025/models/bert-base-uncased'\n",
    "            self.model_name = '/mnt/cfs/huangzhiwei/BAE2025/models/deberta-v3-base'\n",
    "            # self.model_name = '/mnt/cfs/huangzhiwei/BAE2025/models/roberta-base'\n",
    "            self.num_classes = 3\n",
    "            self.dropout = 0.1\n",
    "            self.freeze_pooler = 8\n",
    "            self.batch_size = 8\n",
    "            self.max_length = 512\n",
    "            self.lr = 3e-5\n",
    "            self.epochs = 50\n",
    "            self.device = device\n",
    "            self.name = None\n",
    "            self.seed = 42\n",
    "            self.data_path = '../data_new/all.json'\n",
    "            self.val_data_path = '../data_new/val.json'\n",
    "            self.checkpoint_dir = 'checkpoints_track4'\n",
    "            self.patience = 6\n",
    "            self.expert_hidden_size = 768\n",
    "            self.num_rnn_layers = 2\n",
    "            self.warmup_ratio = 0.1\n",
    "            self.exp_name = 'BAE2025_track4_bert'\n",
    "            self.weight_decay = 0.01\n",
    "    return Args()\n"
   ]
  },
  {
   "cell_type": "markdown",
   "metadata": {},
   "source": [
    "# 训练函数"
   ]
  },
  {
   "cell_type": "code",
   "execution_count": 7,
   "metadata": {},
   "outputs": [
    {
     "name": "stdout",
     "output_type": "stream",
     "text": [
      "Running in Jupyter environment, using default configs\n"
     ]
    },
    {
     "name": "stderr",
     "output_type": "stream",
     "text": [
      "/mnt/cfs/anaconda3/envs/pykt-hzw3.8/lib/python3.8/site-packages/transformers/convert_slow_tokenizer.py:561: UserWarning: The sentencepiece tokenizer that you are converting to a fast tokenizer uses the byte fallback option which is not implemented in the fast tokenizers. In practice this means that the fast version of the tokenizer can produce unknown tokens whereas the sentencepiece version would have converted these unknown tokens into a sequence of byte tokens matching the original piece of text.\n",
      "  warnings.warn(\n"
     ]
    },
    {
     "name": "stdout",
     "output_type": "stream",
     "text": [
      "当前使用的 tokenizer 类型： <class 'transformers.models.deberta_v2.tokenization_deberta_v2_fast.DebertaV2TokenizerFast'>\n",
      "当前使用的 tokenizer 类型： <class 'transformers.models.deberta_v2.tokenization_deberta_v2_fast.DebertaV2TokenizerFast'>\n"
     ]
    },
    {
     "name": "stderr",
     "output_type": "stream",
     "text": [
      "/mnt/cfs/anaconda3/envs/pykt-hzw3.8/lib/python3.8/site-packages/transformers/optimization.py:591: FutureWarning: This implementation of AdamW is deprecated and will be removed in a future version. Use the PyTorch implementation torch.optim.AdamW instead, or set `no_deprecation_warning=True` to disable this warning\n",
      "  warnings.warn(\n",
      "Epoch 1/50: 100%|██████████████████| 309/309 [01:30<00:00,  3.43batch/s, accuracy=0.500, loss=1.050]\n"
     ]
    },
    {
     "name": "stdout",
     "output_type": "stream",
     "text": [
      "Training Loss: 1.0309\n",
      "Training Accuracy: 0.5190\n",
      "Training F1 Score: 0.2877\n"
     ]
    },
    {
     "name": "stderr",
     "output_type": "stream",
     "text": [
      "Epoch 2/50: 100%|██████████████████| 309/309 [01:29<00:00,  3.45batch/s, accuracy=0.750, loss=0.782]\n"
     ]
    },
    {
     "name": "stdout",
     "output_type": "stream",
     "text": [
      "Training Loss: 1.0256\n",
      "Training Accuracy: 0.5170\n",
      "Training F1 Score: 0.2543\n"
     ]
    },
    {
     "name": "stderr",
     "output_type": "stream",
     "text": [
      "Epoch 3/50: 100%|██████████████████| 309/309 [01:29<00:00,  3.45batch/s, accuracy=0.500, loss=0.940]\n"
     ]
    },
    {
     "name": "stdout",
     "output_type": "stream",
     "text": [
      "Training Loss: 1.0105\n",
      "Training Accuracy: 0.5299\n",
      "Training F1 Score: 0.2551\n"
     ]
    },
    {
     "name": "stderr",
     "output_type": "stream",
     "text": [
      "Epoch 4/50: 100%|██████████████████| 309/309 [01:29<00:00,  3.45batch/s, accuracy=0.500, loss=1.082]\n"
     ]
    },
    {
     "name": "stdout",
     "output_type": "stream",
     "text": [
      "Training Loss: 1.0075\n",
      "Training Accuracy: 0.5291\n",
      "Training F1 Score: 0.2490\n"
     ]
    },
    {
     "name": "stderr",
     "output_type": "stream",
     "text": [
      "Epoch 5/50: 100%|██████████████████| 309/309 [01:29<00:00,  3.45batch/s, accuracy=0.500, loss=1.025]\n"
     ]
    },
    {
     "name": "stdout",
     "output_type": "stream",
     "text": [
      "Training Loss: 1.0024\n",
      "Training Accuracy: 0.5319\n",
      "Training F1 Score: 0.2587\n"
     ]
    },
    {
     "name": "stderr",
     "output_type": "stream",
     "text": [
      "Epoch 6/50: 100%|██████████████████| 309/309 [01:29<00:00,  3.45batch/s, accuracy=0.375, loss=1.167]\n"
     ]
    },
    {
     "name": "stdout",
     "output_type": "stream",
     "text": [
      "Training Loss: 0.9953\n",
      "Training Accuracy: 0.5327\n",
      "Training F1 Score: 0.2713\n"
     ]
    },
    {
     "name": "stderr",
     "output_type": "stream",
     "text": [
      "Epoch 7/50: 100%|██████████████████| 309/309 [01:29<00:00,  3.45batch/s, accuracy=0.375, loss=1.153]\n"
     ]
    },
    {
     "name": "stdout",
     "output_type": "stream",
     "text": [
      "Training Loss: 0.9944\n",
      "Training Accuracy: 0.5279\n",
      "Training F1 Score: 0.2721\n"
     ]
    },
    {
     "name": "stderr",
     "output_type": "stream",
     "text": [
      "Epoch 8/50: 100%|██████████████████| 309/309 [01:29<00:00,  3.45batch/s, accuracy=0.625, loss=1.002]\n"
     ]
    },
    {
     "name": "stdout",
     "output_type": "stream",
     "text": [
      "Training Loss: 0.9934\n",
      "Training Accuracy: 0.5234\n",
      "Training F1 Score: 0.2704\n"
     ]
    },
    {
     "name": "stderr",
     "output_type": "stream",
     "text": [
      "Epoch 9/50: 100%|██████████████████| 309/309 [01:29<00:00,  3.45batch/s, accuracy=0.625, loss=0.868]\n"
     ]
    },
    {
     "name": "stdout",
     "output_type": "stream",
     "text": [
      "Training Loss: 0.9919\n",
      "Training Accuracy: 0.5473\n",
      "Training F1 Score: 0.3008\n"
     ]
    },
    {
     "name": "stderr",
     "output_type": "stream",
     "text": [
      "Epoch 10/50: 100%|█████████████████| 309/309 [01:29<00:00,  3.45batch/s, accuracy=0.750, loss=0.892]\n"
     ]
    },
    {
     "name": "stdout",
     "output_type": "stream",
     "text": [
      "Training Loss: 0.9913\n",
      "Training Accuracy: 0.5392\n",
      "Training F1 Score: 0.3115\n"
     ]
    },
    {
     "name": "stderr",
     "output_type": "stream",
     "text": [
      "Epoch 11/50: 100%|█████████████████| 309/309 [01:29<00:00,  3.46batch/s, accuracy=0.250, loss=1.243]\n"
     ]
    },
    {
     "name": "stdout",
     "output_type": "stream",
     "text": [
      "Training Loss: 0.9947\n",
      "Training Accuracy: 0.5331\n",
      "Training F1 Score: 0.2983\n"
     ]
    },
    {
     "name": "stderr",
     "output_type": "stream",
     "text": [
      "Epoch 12/50: 100%|█████████████████| 309/309 [01:29<00:00,  3.46batch/s, accuracy=0.375, loss=1.103]\n"
     ]
    },
    {
     "name": "stdout",
     "output_type": "stream",
     "text": [
      "Training Loss: 0.9868\n",
      "Training Accuracy: 0.5254\n",
      "Training F1 Score: 0.2619\n"
     ]
    },
    {
     "name": "stderr",
     "output_type": "stream",
     "text": [
      "Epoch 13/50: 100%|█████████████████| 309/309 [01:29<00:00,  3.46batch/s, accuracy=0.500, loss=0.997]\n"
     ]
    },
    {
     "name": "stdout",
     "output_type": "stream",
     "text": [
      "Training Loss: 0.9867\n",
      "Training Accuracy: 0.5339\n",
      "Training F1 Score: 0.2929\n"
     ]
    },
    {
     "name": "stderr",
     "output_type": "stream",
     "text": [
      "Epoch 14/50: 100%|█████████████████| 309/309 [01:29<00:00,  3.46batch/s, accuracy=0.250, loss=1.229]\n"
     ]
    },
    {
     "name": "stdout",
     "output_type": "stream",
     "text": [
      "Training Loss: 0.9859\n",
      "Training Accuracy: 0.5315\n",
      "Training F1 Score: 0.2510\n"
     ]
    },
    {
     "name": "stderr",
     "output_type": "stream",
     "text": [
      "Epoch 15/50: 100%|█████████████████| 309/309 [01:29<00:00,  3.46batch/s, accuracy=0.500, loss=1.031]\n"
     ]
    },
    {
     "name": "stdout",
     "output_type": "stream",
     "text": [
      "Training Loss: 0.9886\n",
      "Training Accuracy: 0.5291\n",
      "Training F1 Score: 0.2460\n"
     ]
    },
    {
     "name": "stderr",
     "output_type": "stream",
     "text": [
      "Epoch 16/50: 100%|█████████████████| 309/309 [01:29<00:00,  3.45batch/s, accuracy=0.750, loss=0.849]\n"
     ]
    },
    {
     "name": "stdout",
     "output_type": "stream",
     "text": [
      "Training Loss: 0.9843\n",
      "Training Accuracy: 0.5299\n",
      "Training F1 Score: 0.2440\n"
     ]
    },
    {
     "name": "stderr",
     "output_type": "stream",
     "text": [
      "Epoch 17/50: 100%|█████████████████| 309/309 [01:29<00:00,  3.46batch/s, accuracy=0.625, loss=1.019]\n"
     ]
    },
    {
     "name": "stdout",
     "output_type": "stream",
     "text": [
      "Training Loss: 0.9816\n",
      "Training Accuracy: 0.5311\n",
      "Training F1 Score: 0.2481\n"
     ]
    },
    {
     "name": "stderr",
     "output_type": "stream",
     "text": [
      "Epoch 18/50: 100%|█████████████████| 309/309 [01:29<00:00,  3.45batch/s, accuracy=0.125, loss=1.311]\n"
     ]
    },
    {
     "name": "stdout",
     "output_type": "stream",
     "text": [
      "Training Loss: 0.9804\n",
      "Training Accuracy: 0.5315\n",
      "Training F1 Score: 0.2517\n"
     ]
    },
    {
     "name": "stderr",
     "output_type": "stream",
     "text": [
      "Epoch 19/50: 100%|█████████████████| 309/309 [01:29<00:00,  3.45batch/s, accuracy=0.625, loss=0.898]\n"
     ]
    },
    {
     "name": "stdout",
     "output_type": "stream",
     "text": [
      "Training Loss: 0.9823\n",
      "Training Accuracy: 0.5299\n",
      "Training F1 Score: 0.2484\n"
     ]
    },
    {
     "name": "stderr",
     "output_type": "stream",
     "text": [
      "Epoch 20/50: 100%|█████████████████| 309/309 [01:29<00:00,  3.46batch/s, accuracy=0.625, loss=0.964]\n"
     ]
    },
    {
     "name": "stdout",
     "output_type": "stream",
     "text": [
      "Training Loss: 0.9827\n",
      "Training Accuracy: 0.5303\n",
      "Training F1 Score: 0.2471\n"
     ]
    },
    {
     "name": "stderr",
     "output_type": "stream",
     "text": [
      "Epoch 21/50: 100%|█████████████████| 309/309 [01:29<00:00,  3.46batch/s, accuracy=0.500, loss=0.900]\n"
     ]
    },
    {
     "name": "stdout",
     "output_type": "stream",
     "text": [
      "Training Loss: 0.9789\n",
      "Training Accuracy: 0.5315\n",
      "Training F1 Score: 0.2474\n"
     ]
    },
    {
     "name": "stderr",
     "output_type": "stream",
     "text": [
      "Epoch 22/50: 100%|█████████████████| 309/309 [01:29<00:00,  3.45batch/s, accuracy=0.500, loss=1.123]\n"
     ]
    },
    {
     "name": "stdout",
     "output_type": "stream",
     "text": [
      "Training Loss: 0.9831\n",
      "Training Accuracy: 0.5311\n",
      "Training F1 Score: 0.2495\n"
     ]
    },
    {
     "name": "stderr",
     "output_type": "stream",
     "text": [
      "Epoch 23/50: 100%|█████████████████| 309/309 [01:29<00:00,  3.46batch/s, accuracy=0.500, loss=0.976]\n"
     ]
    },
    {
     "name": "stdout",
     "output_type": "stream",
     "text": [
      "Training Loss: 0.9820\n",
      "Training Accuracy: 0.5311\n",
      "Training F1 Score: 0.2488\n"
     ]
    },
    {
     "name": "stderr",
     "output_type": "stream",
     "text": [
      "Epoch 24/50: 100%|█████████████████| 309/309 [01:29<00:00,  3.46batch/s, accuracy=0.750, loss=0.807]"
     ]
    },
    {
     "name": "stdout",
     "output_type": "stream",
     "text": [
      "Training Loss: 0.9844\n",
      "Training Accuracy: 0.5327\n",
      "Training F1 Score: 0.2535\n"
     ]
    },
    {
     "name": "stderr",
     "output_type": "stream",
     "text": [
      "\n"
     ]
    }
   ],
   "source": [
    "import wandb\n",
    "def train(configs):\n",
    "\n",
    "    # 设置随机种子\n",
    "    random.seed(configs.seed)\n",
    "    np.random.seed(configs.seed)\n",
    "    torch.manual_seed(configs.seed)\n",
    "    \n",
    "    torch.backends.cudnn.deterministic = True\n",
    "    torch.backends.cudnn.benchmark = False\n",
    "    \n",
    "    # 创建检查点目录\n",
    "    checkpoint_dir = os.path.join(configs.checkpoint_dir, configs.exp_name)\n",
    "    os.makedirs(checkpoint_dir, exist_ok=True)\n",
    "    \n",
    "    # 为保存混淆矩阵创建目录 - 分别为训练集和验证集创建\n",
    "    train_plot_dir = os.path.join(checkpoint_dir, 'plots', 'train')\n",
    "    val_plot_dir = os.path.join(checkpoint_dir, 'plots', 'val')\n",
    "    os.makedirs(train_plot_dir, exist_ok=True)\n",
    "    os.makedirs(val_plot_dir, exist_ok=True)\n",
    "    \n",
    "    # 加载数据集\n",
    "    train_dataset = BAE2025Dataset(configs.data_path)\n",
    "    val_dataset = BAE2025Dataset(configs.val_data_path)    \n",
    "\n",
    "    # 创建数据加载器\n",
    "    train_dataloader = BAE2025DataLoader(\n",
    "        dataset=train_dataset,\n",
    "        batch_size=configs.batch_size,\n",
    "        max_length=configs.max_length,\n",
    "        shuffle=True,\n",
    "        drop_last=True,\n",
    "        device=configs.device,\n",
    "        tokenizer_name=configs.model_name\n",
    "    )\n",
    "\n",
    "    val_dataloader = BAE2025DataLoader(\n",
    "        dataset=val_dataset,\n",
    "        batch_size=configs.batch_size,\n",
    "        max_length=configs.max_length,\n",
    "        shuffle=False,\n",
    "        drop_last=False,\n",
    "        device=configs.device,\n",
    "        tokenizer_name=configs.model_name\n",
    "    )\n",
    "    \n",
    "    # 创建模型\n",
    "    model = DeBERTaMoEClassifier(\n",
    "        pretrained_model_name=configs.model_name,\n",
    "        num_classes=configs.num_classes,\n",
    "        freeze_pooler=configs.freeze_pooler,\n",
    "        num_rnn_layers=configs.num_rnn_layers,\n",
    "        expert_hidden_size=configs.expert_hidden_size,\n",
    "        dropout=configs.dropout\n",
    "    ).to(configs.device)\n",
    "\n",
    "    criterion = nn.CrossEntropyLoss()\n",
    "\n",
    "    # 定义优化器\n",
    "    optimizer = AdamW(\n",
    "        filter(lambda p: p.requires_grad, model.parameters()),\n",
    "        lr=configs.lr,\n",
    "        weight_decay=configs.weight_decay\n",
    "    )\n",
    "    \n",
    "    \n",
    "    # 初始化最佳验证损失和早停计数器\n",
    "    best_val_acc = 0.0\n",
    "    best_val_f1 = 0.0  # 添加F1分数作为评估指标\n",
    "    best_val_loss = float('inf')\n",
    "    patience_counter = 0\n",
    "    \n",
    "\n",
    "    # 初始化最佳指标记录\n",
    "    best_metrics = {\n",
    "        'epoch': 0,\n",
    "        'val_f1': 0.0,\n",
    "        'val_acc': 0.0,\n",
    "        'val_loss': float('inf')\n",
    "    }\n",
    "\n",
    "    # 定义类别名称\n",
    "    class_names = ['Yes', 'To some extent', 'No']\n",
    "    \n",
    "    # 添加F1计算所需的库\n",
    "    from sklearn.metrics import f1_score, confusion_matrix\n",
    "    import matplotlib.pyplot as plt\n",
    "    import seaborn as sns\n",
    "    \n",
    "    # 训练循环\n",
    "    for epoch in range(configs.epochs):\n",
    "        # 训练阶段\n",
    "        model.train()\n",
    "        train_loss = 0.0\n",
    "        train_acc = 0.0\n",
    "        train_preds = []\n",
    "        train_labels_list = []\n",
    "        \n",
    "        with tqdm(\n",
    "            train_dataloader,\n",
    "            total=len(train_dataloader),\n",
    "            desc=f'Epoch {epoch + 1}/{configs.epochs}',\n",
    "            unit='batch',\n",
    "            ncols=100\n",
    "        ) as pbar:\n",
    "            for input_ids, attention_mask, labels in pbar:\n",
    "                optimizer.zero_grad()\n",
    "                \n",
    "                # 前向传播\n",
    "                logits = model(input_ids, attention_mask)\n",
    "                \n",
    "                # 计算损失 - 确保labels是长整型\n",
    "                labels = labels.long()\n",
    "                loss = criterion(logits, labels)\n",
    "                # 反向传播\n",
    "                loss.backward()\n",
    "\n",
    "                optimizer.step()\n",
    "                # scheduler.step()  # 更新学习率 - 添加此行\n",
    "                \n",
    "                preds = logits.argmax(dim=1)\n",
    "                accuracy = (preds == labels).float().mean()\n",
    "                accuracy_all = (preds == labels).float().sum()\n",
    "                \n",
    "                # 收集预测结果和真实标签，用于计算F1\n",
    "                train_preds.extend(preds.cpu().numpy())\n",
    "                train_labels_list.extend(labels.cpu().numpy())\n",
    "                \n",
    "                train_loss += loss.item()\n",
    "                train_acc += accuracy_all.item()\n",
    "                \n",
    "                # 添加当前学习率到进度条\n",
    "                # curr_lr = scheduler.get_last_lr()[0]\n",
    "                pbar.set_postfix(\n",
    "                    loss=f'{loss.item():.3f}',\n",
    "                    accuracy=f'{accuracy.item():.3f}',\n",
    "                    # lr=f'{curr_lr:.6f}'  # 显示当前学习率\n",
    "                )\n",
    "        \n",
    "        train_loss = train_loss / len(train_dataloader)\n",
    "        train_acc = train_acc / len(train_dataset)\n",
    "        \n",
    "        # 计算训练集的F1分数 - 使用macro平均以处理多分类\n",
    "        train_f1 = f1_score(train_labels_list, train_preds, average='macro')\n",
    "        \n",
    "        print(f'Training Loss: {train_loss:.4f}')\n",
    "        print(f'Training Accuracy: {train_acc:.4f}')\n",
    "        print(f'Training F1 Score: {train_f1:.4f}')\n",
    "        \n",
    "        \n",
    "        \n",
    "        # # 验证阶段\n",
    "        # model.eval()\n",
    "        # val_loss = 0.0\n",
    "        # val_corrects = 0.0\n",
    "        # val_preds = []\n",
    "        # val_labels_list = []\n",
    "\n",
    "        # with torch.no_grad():\n",
    "        #     for input_ids, attention_mask, labels in val_dataloader:\n",
    "        #         # 确保labels是长整型\n",
    "        #         labels = labels.long()\n",
    "                \n",
    "        #         # 前向传播\n",
    "        #         logits = model(input_ids, attention_mask)\n",
    "                \n",
    "        #         loss = criterion(logits, labels)\n",
    "        #         val_loss += loss.item()\n",
    "        #         preds = logits.argmax(dim=1)\n",
    "        #         accuracy = (preds == labels).float().sum()\n",
    "        #         val_corrects += accuracy\n",
    "                \n",
    "        #         # 收集预测结果和真实标签，用于计算F1和混淆矩阵\n",
    "        #         val_preds.extend(preds.cpu().numpy())\n",
    "        #         val_labels_list.extend(labels.cpu().numpy())\n",
    "        \n",
    "        # val_loss = val_loss / len(val_dataloader)\n",
    "        # val_acc = val_corrects.double() / len(val_dataset)\n",
    "        \n",
    "        # # 计算验证集的F1分数\n",
    "        # val_f1 = f1_score(val_labels_list, val_preds, average='macro')\n",
    "        \n",
    "        # print('Validation Loss: {:.4f} Acc: {:.4f} F1: {:.4f}'.format(val_loss, val_acc, val_f1))\n",
    "\n",
    "        \n",
    "        \n",
    "        # # 检查是否保存模型并判断是否需要早停\n",
    "        # # 使用F1分数作为主要指标\n",
    "        # if val_f1 > best_val_f1:\n",
    "        #     best_val_f1 = val_f1\n",
    "        #     best_val_acc = val_acc\n",
    "            \n",
    "        #     # 保存模型\n",
    "        #     # state_dict = model.state_dict()\n",
    "        #     # torch.save(state_dict, os.path.join(checkpoint_dir, 'best_model_f1.pt'))\n",
    "        #     print(f'New best model saved with F1: {best_val_f1:.4f}, Acc: {best_val_acc:.4f}')\n",
    "            \n",
    "        #     patience_counter = 0\n",
    "        # else:\n",
    "        #     patience_counter += 1\n",
    "        #     if patience_counter >= configs.patience:\n",
    "        #         print(f'Early stopping triggered after {epoch+1} epochs.')\n",
    "        #         break\n",
    "\n",
    "\n",
    "        if epoch >= 12  and epoch <= 22:\n",
    "            # 保存模型\n",
    "            state_dict = model.state_dict()\n",
    "            torch.save(state_dict, os.path.join(\"/mnt/cfs/huangzhiwei/BAE2025/projects/predict/deberta_best\", f'best_model_f1_{epoch+1}.pt'))\n",
    "        \n",
    "        if epoch > 22:\n",
    "            break\n",
    "        # model.train()\n",
    "\n",
    "\n",
    "        \n",
    "# 在以下主函数中添加判断Jupyter环境的逻辑\n",
    "if __name__ == '__main__':\n",
    "    # 判断是否在Jupyter环境中运行\n",
    "    try:\n",
    "        # 检查是否在Jupyter中运行\n",
    "        get_ipython = globals().get('get_ipython', None)\n",
    "        if get_ipython and 'IPKernelApp' in get_ipython().config:\n",
    "            # 在Jupyter环境中运行，使用默认配置\n",
    "            print(\"Running in Jupyter environment, using default configs\")\n",
    "            configs = get_default_configs()\n",
    "        else:\n",
    "            # 在命令行环境中运行，使用argparse\n",
    "            configs = argparser()\n",
    "    except:\n",
    "        # 任何异常都使用argparse处理\n",
    "        configs = argparser()\n",
    "    \n",
    "    # 设置实验名称\n",
    "    if configs.name is None:\n",
    "        configs.exp_name = \\\n",
    "            f'{os.path.basename(configs.model_name)}' + \\\n",
    "            f'{\"_fp\" if configs.freeze_pooler else \"\"}' + \\\n",
    "            f'_b{configs.batch_size}_e{configs.epochs}' + \\\n",
    "            f'_len{configs.max_length}_lr{configs.lr}'\n",
    "    else:\n",
    "        configs.exp_name = configs.name\n",
    "    \n",
    "    # 设置设备\n",
    "    if configs.device is None:\n",
    "        configs.device = torch.device(\n",
    "            'cuda' if torch.cuda.is_available() else 'cpu'\n",
    "        )\n",
    "    \n",
    "    # 调用训练函数\n",
    "    train(configs)"
   ]
  },
  {
   "cell_type": "code",
   "execution_count": null,
   "metadata": {},
   "outputs": [],
   "source": []
  }
 ],
 "metadata": {
  "kernelspec": {
   "display_name": "Python 3",
   "language": "python",
   "name": "python3"
  },
  "language_info": {
   "codemirror_mode": {
    "name": "ipython",
    "version": 3
   },
   "file_extension": ".py",
   "mimetype": "text/x-python",
   "name": "python",
   "nbconvert_exporter": "python",
   "pygments_lexer": "ipython3",
   "version": "3.8.19"
  }
 },
 "nbformat": 4,
 "nbformat_minor": 2
}
