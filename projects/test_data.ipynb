{
 "cells": [
  {
   "cell_type": "code",
   "execution_count": 1,
   "metadata": {},
   "outputs": [],
   "source": [
    "import json\n",
    "import os\n",
    "import csv"
   ]
  },
  {
   "cell_type": "code",
   "execution_count": 4,
   "metadata": {},
   "outputs": [
    {
     "name": "stdout",
     "output_type": "stream",
     "text": [
      "111\n",
      "106\n"
     ]
    }
   ],
   "source": [
    "# 打开一个json文件，读取每一个字典里面的\"sent\"字段，然后找出长度最长的句子\n",
    "def find_longest_sentence(json_file):\n",
    "    with open(json_file, 'r') as f:\n",
    "        data = json.load(f)\n",
    "    longest = 0\n",
    "    longest_sentence = \"\"\n",
    "    for item in data:\n",
    "        if len(item[\"sent\"]) > len(longest_sentence):\n",
    "            longest_sentence = item[\"sent\"]\n",
    "            longest = len(item[\"sent\"])\n",
    "    return longest\n",
    "\n",
    "print(find_longest_sentence(\"../datas/train.json\"))\n",
    "print(find_longest_sentence(\"../datas/val.json\"))\n"
   ]
  },
  {
   "cell_type": "code",
   "execution_count": null,
   "metadata": {},
   "outputs": [],
   "source": []
  }
 ],
 "metadata": {
  "kernelspec": {
   "display_name": "pykt-hzw3.8",
   "language": "python",
   "name": "python3"
  },
  "language_info": {
   "codemirror_mode": {
    "name": "ipython",
    "version": 3
   },
   "file_extension": ".py",
   "mimetype": "text/x-python",
   "name": "python",
   "nbconvert_exporter": "python",
   "pygments_lexer": "ipython3",
   "version": "3.8.19"
  }
 },
 "nbformat": 4,
 "nbformat_minor": 2
}
