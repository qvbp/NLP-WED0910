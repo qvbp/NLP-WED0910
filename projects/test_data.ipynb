{
 "cells": [
  {
   "cell_type": "code",
   "execution_count": 1,
   "metadata": {},
   "outputs": [],
   "source": [
    "import json\n",
    "import os\n",
    "import csv"
   ]
  },
  {
   "cell_type": "code",
   "execution_count": 4,
   "metadata": {},
   "outputs": [
    {
     "name": "stdout",
     "output_type": "stream",
     "text": [
      "111\n",
      "106\n"
     ]
    }
   ],
   "source": [
    "# 打开一个json文件，读取每一个字典里面的\"sent\"字段，然后找出长度最长的句子\n",
    "def find_longest_sentence(json_file):\n",
    "    with open(json_file, 'r') as f:\n",
    "        data = json.load(f)\n",
    "    longest = 0\n",
    "    longest_sentence = \"\"\n",
    "    for item in data:\n",
    "        if len(item[\"sent\"]) > len(longest_sentence):\n",
    "            longest_sentence = item[\"sent\"]\n",
    "            longest = len(item[\"sent\"])\n",
    "    return longest\n",
    "\n",
    "print(find_longest_sentence(\"../datas/train.json\"))\n",
    "print(find_longest_sentence(\"../datas/val.json\"))\n"
   ]
  },
  {
   "cell_type": "code",
   "execution_count": null,
   "metadata": {},
   "outputs": [],
   "source": [
    "# 统计所有标签的数量\n",
    "\n",
    "with open('/mnt/cfs/huangzhiwei/NLP-WED0910/datas/train.json/mnt/cfs/huangzhiwei/NLP-WED0910/datas/train.json', 'r', encoding='utf-8') as f:\n",
    "    train = json.load(f)\n",
    "\n",
    "with open('/mnt/cfs/huangzhiwei/NLP-WED0910/datas/val.json', 'r', encoding='utf-8') as f:\n",
    "    val = json.load(f)\n",
    "\n",
    "label_course_count = {\n",
    "    \"成分残缺型错误\": 0,\n",
    "    \"成分搭配不当型错误\": 0,\n",
    "}\n",
    "\n",
    "# 粗粒度统计\n",
    "def count_labels(data):\n",
    "    label_count = {}\n",
    "    for item in data:\n",
    "        for label in item[\"labels\"]:\n",
    "            \n",
    "    return label_count\n",
    "\n",
    "# 细粒度统计\n",
    "def count_fine_labels(data):\n",
    "    fine_label_count = {}\n",
    "    for item in data:\n",
    "        for label in item[\"labels\"]:\n",
    "            if label not in fine_label_count:\n",
    "                fine_label_count[label] = 0\n",
    "            fine_label_count[label] += 1\n",
    "    return fine_label_count\n",
    "\n"
   ]
  }
 ],
 "metadata": {
  "kernelspec": {
   "display_name": "pykt-hzw3.8",
   "language": "python",
   "name": "python3"
  },
  "language_info": {
   "codemirror_mode": {
    "name": "ipython",
    "version": 3
   },
   "file_extension": ".py",
   "mimetype": "text/x-python",
   "name": "python",
   "nbconvert_exporter": "python",
   "pygments_lexer": "ipython3",
   "version": "3.8.19"
  }
 },
 "nbformat": 4,
 "nbformat_minor": 2
}
