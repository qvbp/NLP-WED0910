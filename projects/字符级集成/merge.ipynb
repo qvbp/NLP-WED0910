{
 "cells": [
  {
   "cell_type": "code",
   "execution_count": null,
   "id": "8b204d1c",
   "metadata": {},
   "outputs": [],
   "source": [
    "import json\n",
    "from pathlib import Path\n",
    "\n",
    "# 加载文件\n",
    "with open(\"zero_shot_merged_1.json\", \"r\", encoding=\"utf-8\") as f:\n",
    "    zero_shot_data = json.load(f)\n",
    "\n",
    "with open(\"cleaned_results.json\", \"r\", encoding=\"utf-8\") as f:\n",
    "    cleaned_results = json.load(f)\n",
    "\n",
    "# 创建一个 dict 便于按 sent_id 查询 zero_shot 中的预测结果\n",
    "zero_shot_dict = {item[\"sent_id\"]: item for item in zero_shot_data}\n",
    "\n",
    "# 定义有效字符级细分类别\n",
    "valid_fine_types = {\"缺字漏字\", \"错别字错误\", \"缺少标点\", \"错用标点\"}\n",
    "\n",
    "# 处理并生成新文件内容\n",
    "merged_results = []\n",
    "for entry in cleaned_results:\n",
    "    sent_id = entry[\"sent_id\"]\n",
    "    if sent_id in zero_shot_dict:\n",
    "        zero_pred = zero_shot_dict[sent_id]\n",
    "        \n",
    "        # 合并字符级 coarse 预测\n",
    "        pred_cg = set(entry.get(\"pred_CourseGrainedErrorType\", []))\n",
    "        if \"字符级错误\" in zero_pred.get(\"pred_CourseGrainedErrorType\", []):\n",
    "            pred_cg.add(\"字符级错误\")\n",
    "        entry[\"pred_CourseGrainedErrorType\"] = list(pred_cg)\n",
    "        \n",
    "        # 合并字符级 fine 预测\n",
    "        pred_fg = set(entry.get(\"pred_FineGrainedErrorType\", []))\n",
    "        for err_type in zero_pred.get(\"pred_FineGrainedErrorType\", []):\n",
    "            if err_type in valid_fine_types:\n",
    "                pred_fg.add(err_type)\n",
    "        entry[\"pred_FineGrainedErrorType\"] = list(pred_fg)\n",
    "\n",
    "    merged_results.append(entry)\n",
    "\n",
    "# 保存为新文件\n",
    "output_path = \"merged_cleaned_results_with_char_errors.json\"\n",
    "with open(output_path, \"w\", encoding=\"utf-8\") as f:\n",
    "    json.dump(merged_results, f, ensure_ascii=False, indent=2)\n",
    "\n",
    "output_path\n"
   ]
  }
 ],
 "metadata": {
  "language_info": {
   "name": "python"
  }
 },
 "nbformat": 4,
 "nbformat_minor": 5
}
